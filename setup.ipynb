{
 "cells": [
  {
   "cell_type": "code",
   "execution_count": 1,
   "id": "712ba1a5",
   "metadata": {},
   "outputs": [],
   "source": [
    "import os\n",
    "import openai\n",
    "from dotenv import dotenv_values"
   ]
  },
  {
   "cell_type": "code",
   "execution_count": null,
   "id": "d0cb43d3",
   "metadata": {},
   "outputs": [],
   "source": [
    "## If you want to use OpenAI, uncomment the following lines: \n",
    "from openai import OpenAI\n",
    "config = dotenv_values('.env')\n",
    "api_key = config.get(\"API_KEY\")\n",
    "client = OpenAI(api_key=api_key)"
   ]
  },
  {
   "cell_type": "code",
   "execution_count": null,
   "id": "d76fdf0b",
   "metadata": {},
   "outputs": [
    {
     "name": "stdout",
     "output_type": "stream",
     "text": [
      "bedaff1485e34f02b69ade50d49d6821\n",
      "https://oao-jatuckecode-dev.openai.azure.com/\n",
      "2024-08-06\n"
     ]
    }
   ],
   "source": [
    "## IF YOU WANT TO USE AZURE OPENAI, UNCOMMENT THE FOLLOWING LINES\n",
    "# from openai import AzureOpenAI\n",
    "\n",
    "# config = dotenv_values('.env')\n",
    "# azure_openai_endpoint = config.get(\"AZURE_OPENAI_ENDPOINT\")\n",
    "# azure_openai_api_version = config.get(\"AZURE_OPENAI_API_VERSION\", \"2025-01-01-preview\")\n",
    "# azure_openai_api_key = config.get(\"AZURE_OPENAI_API_KEY\")\n",
    "\n",
    "# client = AzureOpenAI(\n",
    "#     azure_endpoint=azure_openai_endpoint,\n",
    "#     api_version=azure_openai_api_version,\n",
    "#     api_key=azure_openai_api_key\n",
    "# )"
   ]
  },
  {
   "cell_type": "code",
   "execution_count": 10,
   "id": "d848dd92",
   "metadata": {},
   "outputs": [
    {
     "name": "stdout",
     "output_type": "stream",
     "text": [
      "✅ API key is working.\n",
      "Response: Once upon a time, a curious little firewall discovered a mysterious hole in the kingdom's defenses and whispered a magical patch that lulled all the vulnerabilities to sleep.\n"
     ]
    }
   ],
   "source": [
    "def test_openai_api_key():\n",
    "    \"\"\" \n",
    "    Tests whether the OPENAI_API_KEY environment variable is valid by sending a simple request. \n",
    "    Returns True if the key works, False otherwise. \n",
    "    \"\"\"\n",
    "\n",
    "    try:\n",
    "        response = client.chat.completions.create(\n",
    "            model=\"gpt-4o\",\n",
    "            messages=[\n",
    "                {\n",
    "                    \"role\": \"user\",\n",
    "                    \"content\": \"Write a one-sentence bedtime story about a security breach.\"\n",
    "                }\n",
    "            ])\n",
    "\n",
    "        print(\"✅ API key is working.\")\n",
    "        print(\"Response:\", response.choices[0].message.content)\n",
    "\n",
    "    except Exception as e:\n",
    "        print(f\"⚠️ An error occurred: {str(e)}\")\n",
    "        return False\n",
    "\n",
    "\n",
    "test_openai_api_key()"
   ]
  }
 ],
 "metadata": {
  "kernelspec": {
   "display_name": "base",
   "language": "python",
   "name": "python3"
  },
  "language_info": {
   "codemirror_mode": {
    "name": "ipython",
    "version": 3
   },
   "file_extension": ".py",
   "mimetype": "text/x-python",
   "name": "python",
   "nbconvert_exporter": "python",
   "pygments_lexer": "ipython3",
   "version": "3.13.2"
  }
 },
 "nbformat": 4,
 "nbformat_minor": 5
}
