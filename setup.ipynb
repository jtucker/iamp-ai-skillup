{
 "cells": [
  {
   "cell_type": "code",
   "execution_count": 1,
   "id": "712ba1a5",
   "metadata": {},
   "outputs": [
    {
     "data": {
      "text/plain": [
       "True"
      ]
     },
     "execution_count": 1,
     "metadata": {},
     "output_type": "execute_result"
    }
   ],
   "source": [
    "import os\n",
    "import dotenv\n",
    "dotenv.load_dotenv()"
   ]
  },
  {
   "cell_type": "code",
   "execution_count": null,
   "id": "d0cb43d3",
   "metadata": {},
   "outputs": [],
   "source": [
    "## If you want to use OpenAI, uncomment the following lines: \n",
    "from openai import OpenAI\n",
    "config = dotenv_values('.env')\n",
    "api_key = config.get(\"API_KEY\")\n",
    "client = OpenAI(api_key=api_key)"
   ]
  },
  {
   "cell_type": "code",
   "execution_count": null,
   "id": "d76fdf0b",
   "metadata": {},
   "outputs": [],
   "source": [
    "## IF YOU WANT TO USE AZURE OPENAI, UNCOMMENT THE FOLLOWING LINES\n",
    "# from openai import AzureOpenAI, AsyncAzureOpenAI\n",
    "# import asyncio\n",
    "\n",
    "# azure_openai_endpoint = os.getenv(\"AZURE_OPENAI_ENDPOINT\")\n",
    "# azure_openai_api_version = os.getenv(\"AZURE_OPENAI_API_VERSION\", \"2025-03-01-preview\")\n",
    "# azure_openai_api_key = os.getenv(\"AZURE_OPENAI_API_KEY\")\n",
    "\n",
    "# client = AsyncAzureOpenAI(\n",
    "#     azure_endpoint=azure_openai_endpoint,\n",
    "#     api_version=azure_openai_api_version,\n",
    "#     api_key=azure_openai_api_key,\n",
    "#     azure_deployment=\"gpt-4o\"\n",
    "# )"
   ]
  },
  {
   "cell_type": "code",
   "execution_count": 11,
   "id": "d848dd92",
   "metadata": {},
   "outputs": [
    {
     "name": "stdout",
     "output_type": "stream",
     "text": [
      "✅ API key is working.\n",
      "Response: Once upon a time, a clever little firewall befriended a mischievous hacker and, with a gentle nudge, guided him toward using his talents for good, ensuring the kingdom's data was safe and sound forevermore.\n"
     ]
    }
   ],
   "source": [
    "async def test_openai_api_key():\n",
    "    \"\"\" \n",
    "    Tests whether the environment variable is valid by sending a simple request. \n",
    "    Returns True if the key works, False otherwise. \n",
    "    \"\"\"\n",
    "\n",
    "    try:\n",
    "        response = await client.chat.completions.create(\n",
    "            model=\"gpt-4o\",\n",
    "            messages=[\n",
    "                {\n",
    "                    \"role\": \"user\",\n",
    "                    \"content\": \"Write a one-sentence bedtime story about a security breach.\"\n",
    "                }\n",
    "            ])\n",
    "\n",
    "        print(\"✅ API key is working.\")\n",
    "        print(\"Response:\", response.choices[0].message.content)\n",
    "\n",
    "    except Exception as e:\n",
    "        print(f\"⚠️ An error occurred: {str(e)}\")\n",
    "        return False\n",
    "\n",
    "\n",
    "await test_openai_api_key()"
   ]
  },
  {
   "cell_type": "markdown",
   "id": "0d7e98eb",
   "metadata": {},
   "source": [
    "# Security Alert Triage Agentic Team"
   ]
  },
  {
   "cell_type": "code",
   "execution_count": null,
   "id": "6204b8ec",
   "metadata": {},
   "outputs": [],
   "source": [
    "from pydantic import BaseModel\n",
    "from agents import Agent, Runner, trace, set_default_openai_client\n",
    "\n",
    "set_default_openai_client(client)"
   ]
  },
  {
   "cell_type": "markdown",
   "id": "993f567e",
   "metadata": {},
   "source": [
    "## Agent to generate or simulate a security alert"
   ]
  },
  {
   "cell_type": "code",
   "execution_count": 6,
   "id": "7f4342c8",
   "metadata": {},
   "outputs": [],
   "source": [
    "alert_generator = Agent(\n",
    "    name=\"alert_generator\",\n",
    "    instructions=\"Generate a simulated security alert based on an environment description.\"\n",
    ")\n"
   ]
  },
  {
   "cell_type": "markdown",
   "id": "5c51157e",
   "metadata": {},
   "source": [
    "## Agent to assess alert"
   ]
  },
  {
   "cell_type": "code",
   "execution_count": 7,
   "id": "99792927",
   "metadata": {},
   "outputs": [],
   "source": [
    "class AlertAssessment(BaseModel):\n",
    "    is_legit: bool\n",
    "    severity: str\n",
    "\n",
    "triage_agent = Agent(\n",
    "    name=\"triage_agent\",\n",
    "    instructions=\"Evaluate the alert. Return whether it's a legitimate threat and assign severity.\",\n",
    "    output_type=AlertAssessment\n",
    ")"
   ]
  },
  {
   "cell_type": "markdown",
   "id": "dbf25c78",
   "metadata": {},
   "source": [
    "## Agent to decide escalation"
   ]
  },
  {
   "cell_type": "code",
   "execution_count": 8,
   "id": "dab7d20b",
   "metadata": {},
   "outputs": [],
   "source": [
    "escalation_agent = Agent(\n",
    "    name=\"escalation_agent\",\n",
    "    instructions=\"Based on the alert assessment, decide whether to escalate and provide justification.\",\n",
    "    output_type=str\n",
    ")"
   ]
  },
  {
   "cell_type": "markdown",
   "id": "e75ca154",
   "metadata": {},
   "source": [
    "## Run the agents"
   ]
  },
  {
   "cell_type": "code",
   "execution_count": 13,
   "id": "e573581e",
   "metadata": {},
   "outputs": [
    {
     "name": "stdout",
     "output_type": "stream",
     "text": [
      "🔔 Alert Generated:  ---\n",
      "\n",
      "**Security Alert Notification**\n",
      "\n",
      "**Date:** [Current Date and Time]  \n",
      "**Severity Level:** High  \n",
      "**Category:** Unauthorized Access Attempt\n",
      "\n",
      "---\n",
      "\n",
      "**Environment Description:**  \n",
      "- **Location:** Corporate Headquarters, Main Office Network  \n",
      "- **Systems Affected:** Employee Workstations, Central Authentication Server  \n",
      "- **Time Frame:** After business hours (7:00 PM - 6:00 AM)\n",
      "\n",
      "**Description of Incident:**  \n",
      "Multiple failed login attempts have been detected on the network after business hours. The attempts were concentrated on several employee workstations and involved incorrect password entries in rapid succession.\n",
      "\n",
      "**Incident Details:**\n",
      "\n",
      "1. **Username(s) Targeted:**  \n",
      "   - User1  \n",
      "   - User2  \n",
      "   - User3\n",
      "\n",
      "2. **Method of Detection:**  \n",
      "   - Automated monitoring systems identified a pattern of failed logins and triggered an alert.\n",
      "\n",
      "3. **Number of Failed Logins:**  \n",
      "   - User1: 15 failed attempts  \n",
      "   - User2: 10 failed attempts  \n",
      "   - User3: 20 failed attempts\n",
      "\n",
      "4. **Source IP:**  \n",
      "   - The failed attempts originated from an unfamiliar IP address outside the company's usual geographic activity area.\n",
      "\n",
      "**Actions Taken:**\n",
      "\n",
      "- Immediate account lockout for affected user accounts.\n",
      "- Enhanced monitoring initiated for any further suspicious activity.\n",
      "- Notification sent to Cyber Security Team for further investigation.\n",
      "\n",
      "**Recommended Actions:**\n",
      "\n",
      "1. **Account Review:**  \n",
      "   - Verify the recent activity of the compromised accounts with the respective users during business hours. \n",
      "\n",
      "2. **Password Reset:**  \n",
      "   - Mandatory password reset for affected accounts.\n",
      "\n",
      "3. **Security Measures:**  \n",
      "   - Implement additional authentication measures (e.g., Multi-Factor Authentication).\n",
      "\n",
      "4. **Monitor and Report:**  \n",
      "   - Continue monitoring the network for any additional suspicious activity and report any new developments.\n",
      "\n",
      "**Contact Information:**  \n",
      "- Security Operations Center (SOC): [Contact Number]  \n",
      "- Email: [Security Team Email]\n",
      "\n",
      "**Note:** All employees are reminded to follow best practices for securing their accounts and to report any suspicious activity immediately.\n",
      "\n",
      "--- \n",
      "\n",
      "**End of Alert**\n",
      "\n",
      "\n",
      "🧩 Triage Result:  is_legit=True severity='High'\n",
      "🚨 Escalation Decision: ### Escalation Decision: Escalate\n",
      "\n",
      "**Justification:**\n",
      "\n",
      "1. **Severity Level:** The alert is already marked as \"High,\" indicating significant concern regarding potential unauthorized access.\n",
      "\n",
      "2. **Multiple Accounts Targeted:** The targeting of multiple user accounts suggests a coordinated effort to gain unauthorized access, which increases the likelihood of a sophisticated attack attempt.\n",
      "\n",
      "3. **Unfamiliar Source IP:** The failed attempts originate from an unfamiliar IP address outside of the usual geographic activity, potentially indicating a remote attack.\n",
      "\n",
      "4. **Time of Activity:** The activity occurred after business hours, reducing the likelihood of it being a legitimate mistake by authorized personnel and raising suspicion of malicious intent.\n",
      "\n",
      "5. **Account Lockout:** Immediate action was taken to lock affected accounts, highlighting the necessity to inform higher management and potentially involve external cybersecurity experts.\n",
      "\n",
      "6. **Potential for Broader Impact:** The involvement of the Central Authentication Server suggests that if successful, the impact could extend beyond individual workstations to the entire network.\n",
      "\n",
      "Escalating this incident ensures timely response from senior security personnel, mitigating risk and preventing potential data breaches.\n"
     ]
    }
   ],
   "source": [
    "async def main():\n",
    "    env_input = input(\"Describe situation (e.g. failed logins after hours): \")\n",
    "\n",
    "    with trace(\"Security Alert Deterministic Flow\"):\n",
    "        # 1. Generate or fetch simulated alert\n",
    "        alert_result = await Runner.run(alert_generator, env_input)\n",
    "        print(\"🔔 Alert Generated: \", alert_result.final_output)\n",
    "\n",
    "        # 2. Triage it\n",
    "        triage_result = await Runner.run(triage_agent, alert_result.final_output)\n",
    "        assessment = triage_result.final_output\n",
    "        print(\"🧩 Triage Result: \", assessment)\n",
    "\n",
    "        # 3. Gate: Only escalate if legit and high severity\n",
    "        severity = assessment.severity.strip().casefold()\n",
    "        if not assessment.is_legit:\n",
    "            print(\"✔️ Alert is a false positive — stopping here.\")\n",
    "            return\n",
    "        valid = {\"low\", \"medium\", \"high\"}\n",
    "        if severity not in valid:\n",
    "            print(f\"⚠️ Unknown severity '{assessment.severity}'. Defaulting to 'medium'.\")\n",
    "            severity = \"medium\"\n",
    "\n",
    "        if severity != \"high\":\n",
    "            print(f\"⚠️ Severity = '{severity}'. Not high — no escalation.\")\n",
    "            return\n",
    "\n",
    "        # 4. Escalate\n",
    "        escalation = await Runner.run(escalation_agent, alert_result.final_output)\n",
    "        print(\"🚨 Escalation Decision:\", escalation.final_output) \n",
    "\n",
    "await main()\n"
   ]
  },
  {
   "cell_type": "code",
   "execution_count": null,
   "id": "2a999941",
   "metadata": {},
   "outputs": [],
   "source": []
  }
 ],
 "metadata": {
  "kernelspec": {
   "display_name": "base",
   "language": "python",
   "name": "python3"
  },
  "language_info": {
   "codemirror_mode": {
    "name": "ipython",
    "version": 3
   },
   "file_extension": ".py",
   "mimetype": "text/x-python",
   "name": "python",
   "nbconvert_exporter": "python",
   "pygments_lexer": "ipython3",
   "version": "3.13.2"
  }
 },
 "nbformat": 4,
 "nbformat_minor": 5
}
