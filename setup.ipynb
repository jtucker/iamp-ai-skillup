{
 "cells": [
  {
   "cell_type": "code",
   "execution_count": null,
   "id": "712ba1a5",
   "metadata": {},
   "outputs": [],
   "source": [
    "import os\n",
    "import openai\n",
    "from openai import OpenAI\n",
    "from dotenv import dotenv_values\n",
    "config = dotenv_values('.env')\n",
    "api_key = config.get(\"API_KEY\")\n",
    "client = OpenAI(api_key=api_key)"
   ]
  },
  {
   "cell_type": "code",
   "execution_count": null,
   "id": "d848dd92",
   "metadata": {},
   "outputs": [],
   "source": [
    "def test_openai_api_key(): \n",
    "    \"\"\" \n",
    "    Tests whether the OPENAI_API_KEY environment variable is valid by sending a simple request. \n",
    "    Returns True if the key works, False otherwise. \n",
    "    \"\"\" \n",
    "\n",
    "    try:\n",
    "        response = client.chat.completions.create(model=\"gpt-4.1\",\n",
    "        messages=[\n",
    "            {\n",
    "                \"role\": \"user\",\n",
    "                \"content\": \"Write a one-sentence bedtime story about a security breach.\"\n",
    "            }\n",
    "        ])\n",
    "        \n",
    "        print(\"✅ API key is working.\") \n",
    "        print(\"Response:\", response.choices[0].message.content) \n",
    "    except openai.InvalidRequestError:\n",
    "            print(\"❌ Invalid API key.\") \n",
    "            return False \n",
    "\n",
    "    except Exception as e: \n",
    "            print(f\"⚠️ An error occurred: {str(e)}\") \n",
    "            return False \n",
    "\n",
    "\n",
    "test_openai_api_key()"
   ]
  }
 ],
 "metadata": {
  "kernelspec": {
   "display_name": "base",
   "language": "python",
   "name": "python3"
  },
  "language_info": {
   "codemirror_mode": {
    "name": "ipython",
    "version": 3
   },
   "file_extension": ".py",
   "mimetype": "text/x-python",
   "name": "python",
   "nbconvert_exporter": "python",
   "pygments_lexer": "ipython3",
   "version": "3.13.2"
  }
 },
 "nbformat": 4,
 "nbformat_minor": 5
}
