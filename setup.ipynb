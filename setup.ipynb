{
 "cells": [
  {
   "cell_type": "code",
   "execution_count": null,
   "id": "712ba1a5",
   "metadata": {},
   "outputs": [],
   "source": [
    "import os\n",
    "import dotenv\n",
    "dotenv.load_dotenv()"
   ]
  },
  {
   "cell_type": "code",
   "execution_count": null,
   "id": "d0cb43d3",
   "metadata": {},
   "outputs": [],
   "source": [
    "## If you want to use OpenAI, uncomment the following lines: \n",
    "from openai import AsyncOpenAI\n",
    "api_key = os.getenv(\"API_KEY\")\n",
    "client = AsyncOpenAI(api_key=api_key)"
   ]
  },
  {
   "cell_type": "code",
   "execution_count": null,
   "id": "d76fdf0b",
   "metadata": {},
   "outputs": [],
   "source": [
    "## IF YOU WANT TO USE AZURE OPENAI, UNCOMMENT THE FOLLOWING LINES\n",
    "# from openai import AzureOpenAI, AsyncAzureOpenAI\n",
    "# import asyncio\n",
    "\n",
    "# azure_openai_endpoint = os.getenv(\"AZURE_OPENAI_ENDPOINT\")\n",
    "# azure_openai_api_version = os.getenv(\"AZURE_OPENAI_API_VERSION\", \"2025-03-01-preview\")\n",
    "# azure_openai_api_key = os.getenv(\"AZURE_OPENAI_API_KEY\")\n",
    "\n",
    "# client = AsyncAzureOpenAI(\n",
    "#     azure_endpoint=azure_openai_endpoint,\n",
    "#     api_version=azure_openai_api_version,\n",
    "#     api_key=azure_openai_api_key,\n",
    "#     azure_deployment=\"gpt-4o\"\n",
    "# )"
   ]
  },
  {
   "cell_type": "code",
   "execution_count": null,
   "id": "d848dd92",
   "metadata": {},
   "outputs": [],
   "source": [
    "async def test_openai_api_key():\n",
    "    \"\"\" \n",
    "    Tests whether the environment variable is valid by sending a simple request. \n",
    "    Returns True if the key works, False otherwise. \n",
    "    \"\"\"\n",
    "\n",
    "    try:\n",
    "        response = await client.chat.completions.create(\n",
    "            model=\"gpt-4o\",\n",
    "            messages=[\n",
    "                {\n",
    "                    \"role\": \"user\",\n",
    "                    \"content\": \"Write a one-sentence bedtime story about a security breach.\"\n",
    "                }\n",
    "            ])\n",
    "\n",
    "        print(\"✅ API key is working.\")\n",
    "        print(\"Response:\", response.choices[0].message.content)\n",
    "\n",
    "    except Exception as e:\n",
    "        print(f\"⚠️ An error occurred: {str(e)}\")\n",
    "        return False\n",
    "\n",
    "\n",
    "await test_openai_api_key()"
   ]
  },
  {
   "cell_type": "markdown",
   "id": "0d7e98eb",
   "metadata": {},
   "source": [
    "# Security Alert Triage Agentic Team"
   ]
  },
  {
   "cell_type": "code",
   "execution_count": null,
   "id": "6204b8ec",
   "metadata": {},
   "outputs": [],
   "source": [
    "from pydantic import BaseModel\n",
    "from agents import Agent, Runner, trace, set_default_openai_client\n",
    "\n",
    "set_default_openai_client(client)"
   ]
  },
  {
   "cell_type": "markdown",
   "id": "993f567e",
   "metadata": {},
   "source": [
    "## Agent to generate or simulate a security alert"
   ]
  },
  {
   "cell_type": "code",
   "execution_count": null,
   "id": "7f4342c8",
   "metadata": {},
   "outputs": [],
   "source": [
    "alert_generator = Agent(\n",
    "    name=\"alert_generator\",\n",
    "    instructions=\"Generate a simulated security alert based on an environment description.\"\n",
    ")\n"
   ]
  },
  {
   "cell_type": "markdown",
   "id": "5c51157e",
   "metadata": {},
   "source": [
    "## Agent to assess alert"
   ]
  },
  {
   "cell_type": "code",
   "execution_count": null,
   "id": "99792927",
   "metadata": {},
   "outputs": [],
   "source": [
    "class AlertAssessment(BaseModel):\n",
    "    is_legit: bool\n",
    "    severity: str\n",
    "\n",
    "triage_agent = Agent(\n",
    "    name=\"triage_agent\",\n",
    "    instructions=\"Evaluate the alert. Return whether it's a legitimate threat and assign severity.\",\n",
    "    output_type=AlertAssessment\n",
    ")"
   ]
  },
  {
   "cell_type": "markdown",
   "id": "dbf25c78",
   "metadata": {},
   "source": [
    "## Agent to decide escalation"
   ]
  },
  {
   "cell_type": "code",
   "execution_count": null,
   "id": "dab7d20b",
   "metadata": {},
   "outputs": [],
   "source": [
    "escalation_agent = Agent(\n",
    "    name=\"escalation_agent\",\n",
    "    instructions=\"Based on the alert assessment, decide whether to escalate and provide justification.\",\n",
    "    output_type=str\n",
    ")"
   ]
  },
  {
   "cell_type": "markdown",
   "id": "e75ca154",
   "metadata": {},
   "source": [
    "## Run the agents"
   ]
  },
  {
   "cell_type": "code",
   "execution_count": null,
   "id": "e573581e",
   "metadata": {},
   "outputs": [],
   "source": [
    "async def main():\n",
    "    env_input = input(\"Describe situation (e.g. failed logins after hours): \")\n",
    "\n",
    "    with trace(\"Security Alert Deterministic Flow\"):\n",
    "        # 1. Generate or fetch simulated alert\n",
    "        alert_result = await Runner.run(alert_generator, env_input)\n",
    "        print(\"🔔 Alert Generated: \", alert_result.final_output)\n",
    "\n",
    "        # 2. Triage it\n",
    "        triage_result = await Runner.run(triage_agent, alert_result.final_output)\n",
    "        assessment = triage_result.final_output\n",
    "        print(\"🧩 Triage Result: \", assessment)\n",
    "\n",
    "        # 3. Gate: Only escalate if legit and high severity\n",
    "        severity = assessment.severity.strip().casefold()\n",
    "        if not assessment.is_legit:\n",
    "            print(\"✔️ Alert is a false positive — stopping here.\")\n",
    "            return\n",
    "        valid = {\"low\", \"medium\", \"high\"}\n",
    "        if severity not in valid:\n",
    "            print(f\"⚠️ Unknown severity '{assessment.severity}'. Defaulting to 'medium'.\")\n",
    "            severity = \"medium\"\n",
    "\n",
    "        if severity != \"high\":\n",
    "            print(f\"⚠️ Severity = '{severity}'. Not high — no escalation.\")\n",
    "            return\n",
    "\n",
    "        # 4. Escalate\n",
    "        escalation = await Runner.run(escalation_agent, alert_result.final_output)\n",
    "        print(\"🚨 Escalation Decision:\", escalation.final_output) \n",
    "\n",
    "await main()\n"
   ]
  }
 ],
 "metadata": {
  "kernelspec": {
   "display_name": "base",
   "language": "python",
   "name": "python3"
  },
  "language_info": {
   "codemirror_mode": {
    "name": "ipython",
    "version": 3
   },
   "file_extension": ".py",
   "mimetype": "text/x-python",
   "name": "python",
   "nbconvert_exporter": "python",
   "pygments_lexer": "ipython3",
   "version": "3.13.5"
  }
 },
 "nbformat": 4,
 "nbformat_minor": 5
}
